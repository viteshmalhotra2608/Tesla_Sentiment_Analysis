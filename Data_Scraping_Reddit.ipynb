{
 "cells": [
  {
   "cell_type": "code",
   "execution_count": null,
   "metadata": {},
   "outputs": [],
   "source": [
    "%pip install praw"
   ]
  },
  {
   "cell_type": "code",
   "execution_count": null,
   "metadata": {},
   "outputs": [],
   "source": [
    "%pip install psaw"
   ]
  },
  {
   "cell_type": "code",
   "execution_count": null,
   "metadata": {},
   "outputs": [],
   "source": [
    "import praw #PRAW provides Reddit API functionality\n",
    "import datetime #Provides capability to easily formate timestamps of message postings\n",
    "#https://praw.readthedocs.io/en/stable/code_overview/models/submission.html?highlight=submission -> Attributes (data) that you can get from the submission class\n",
    "#https://praw.readthedocs.io/en/stable/code_overview/models/comment.html#praw.models.Comment -> Attributes (data) that you can get from the comment class\n",
    "from psaw import PushshiftAPI\n",
    "import pandas as pd\n",
    "import numpy as np"
   ]
  },
  {
   "cell_type": "code",
   "execution_count": null,
   "metadata": {},
   "outputs": [],
   "source": [
    "#Reddit API Credentials\n",
    "reddit = praw.Reddit(user_agent='project101',\n",
    "                     client_id='izOEKmjqiKPdyL8TrvFo8A', client_secret=\"rCk4cv1lNIAy7B6VzdoYCx7P5C6j_A\",\n",
    "                     username='wisemonk08', password='Arrow$08',\n",
    "                     ratelimit_seconds=600) #default is set to 5 seconds. Set it with a generous number so that your program does not fail                "
   ]
  },
  {
   "cell_type": "code",
   "execution_count": null,
   "metadata": {},
   "outputs": [],
   "source": [
    "#Change this variable to indicate what subreddit you want to collect\n",
    "#Find the subreddit manually on Reddit\n",
    "#Then change the subreddit name here to be exactly the same\n",
    "#No white spaces! A multi-word subreddit will have underscores, e.g., \"three_word_subreddit\"\n",
    "subreddit = \"Tomorrowland\" \n"
   ]
  },
  {
   "cell_type": "code",
   "execution_count": null,
   "metadata": {},
   "outputs": [],
   "source": [
    "submissions = []\n",
    "submission_info = []\n",
    "comments = []"
   ]
  },
  {
   "cell_type": "code",
   "execution_count": null,
   "metadata": {},
   "outputs": [],
   "source": [
    "# To access past data\n",
    "from praw.models import MoreComments\n",
    "\n",
    "api = PushshiftAPI()\n",
    "\n",
    "gen = api.search_submissions(after=1546309904,before = 1577845904, subreddit=subreddit)\n",
    "\n",
    "for submission in gen:\n",
    "    submission_id = submission.id\n",
    "    try:\n",
    "      submission_info = [submission_id, submission.author, \n",
    "                       submission.created_utc, submission.retrieved_on, \n",
    "                       submission.is_video, submission.media_only, \n",
    "                       submission.title, submission.selftext, \n",
    "                       submission.num_comments, submission.score, \n",
    "                       submission.total_awards_received, submission.upvote_ratio, \n",
    "                       submission.url]\n",
    "    except AttributeError:\n",
    "      pass\n",
    "    # print(submission_info)\n",
    "    submissions.append(submission_info)\n",
    "    submission_praw = reddit.submission(id=submission_id)\n",
    "    for comment in submission_praw.comments.list():\n",
    "      if isinstance(comment, MoreComments):\n",
    "        continue\n",
    "      comment_info = [submission_id, str(comment.author), \n",
    "                      comment.created_utc, comment.body, \n",
    "                      comment.ups, comment.downs, \n",
    "                      comment.total_awards_received, comment.score]\n",
    "      # print(comment_info)\n",
    "      comments.append(comment_info)\n",
    "      # print(\"***\")"
   ]
  },
  {
   "cell_type": "code",
   "execution_count": null,
   "metadata": {},
   "outputs": [],
   "source": [
    "submission_df = pd.DataFrame(submissions, columns=['id', 'author', 'created_utc', 'retrieved_on', 'is_video', 'media_only', 'title', \n",
    "                                      'selftext', 'num_comments', 'score', 'total_awards_received', 'upvote_ratio', 'url'])\n",
    "\n",
    "comments_df = pd.DataFrame(comments, columns=['subm_id', 'author', 'created_utc', 'body', 'ups', 'downs', 'total_awards_received', 'score'])"
   ]
  },
  {
   "cell_type": "code",
   "execution_count": null,
   "metadata": {},
   "outputs": [],
   "source": [
    "submission_df"
   ]
  },
  {
   "cell_type": "code",
   "execution_count": null,
   "metadata": {},
   "outputs": [],
   "source": [
    "comments_df"
   ]
  },
  {
   "cell_type": "code",
   "execution_count": null,
   "metadata": {},
   "outputs": [],
   "source": [
    "##To download the dataset you can specify your own data path\n",
    "\n",
    "\n",
    "# submission_df.to_csv (r'C:\\submission_df2019.csv', index = False, header=True)\n",
    "# comments_df.to_csv (r'C:\\comments_df2019.csv', index = False, header=True)\n",
    "\n"
   ]
  },
  {
   "cell_type": "code",
   "execution_count": null,
   "metadata": {},
   "outputs": [],
   "source": [
    "# submission1 = pd.read_csv('C:\\submission_df2019.csv')\n",
    "# submission2 = pd.read_csv('C:\\submission_df2020.csv')\n",
    "# submission3 = pd.read_csv('C:\\submission_df.csv')\n",
    "\n"
   ]
  },
  {
   "cell_type": "code",
   "execution_count": null,
   "metadata": {},
   "outputs": [],
   "source": [
    "# final_submissiondf = pd.concat([submission1,submission2,submission3],axis=0)"
   ]
  },
  {
   "cell_type": "code",
   "execution_count": null,
   "metadata": {},
   "outputs": [],
   "source": [
    "# final_submissiondf.to_csv (r'C:\\submissionFinal.csv', index = False, header=True)\n"
   ]
  },
  {
   "cell_type": "code",
   "execution_count": null,
   "metadata": {},
   "outputs": [],
   "source": [
    "# comment1 = pd.read_csv('C:\\comments_df2019.csv')\n",
    "# comment2 = pd.read_csv('C:\\comments_df2020.csv')\n",
    "# # comment3 = pd.read_csv('C:\\comments_df.csv')"
   ]
  },
  {
   "cell_type": "code",
   "execution_count": null,
   "metadata": {},
   "outputs": [],
   "source": [
    "# comment_finalDF = pd.concat([comment1,comment2,comment3],axis=0)"
   ]
  },
  {
   "cell_type": "code",
   "execution_count": null,
   "metadata": {},
   "outputs": [],
   "source": [
    "# comment_finalDF.to_csv (r'C:\\commentsFinal.csv', index = False, header=True)\n"
   ]
  },
  {
   "cell_type": "code",
   "execution_count": null,
   "metadata": {},
   "outputs": [],
   "source": []
  }
 ],
 "metadata": {
  "interpreter": {
   "hash": "aee8b7b246df8f9039afb4144a1f6fd8d2ca17a180786b69acc140d282b71a49"
  },
  "kernelspec": {
   "display_name": "Python 3",
   "language": "python",
   "name": "python3"
  },
  "language_info": {
   "codemirror_mode": {
    "name": "ipython",
    "version": 3
   },
   "file_extension": ".py",
   "mimetype": "text/x-python",
   "name": "python",
   "nbconvert_exporter": "python",
   "pygments_lexer": "ipython3",
   "version": "3.9.7"
  }
 },
 "nbformat": 4,
 "nbformat_minor": 2
}
